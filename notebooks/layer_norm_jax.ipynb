{
 "cells": [
  {
   "cell_type": "markdown",
   "metadata": {
    "colab_type": "text",
    "id": "view-in-github"
   },
   "source": [
    "<a href=\"https://colab.research.google.com/github/probml/pyprobml/blob/master/notebooks/layer_norm_jax.ipynb\" target=\"_parent\"><img src=\"https://colab.research.google.com/assets/colab-badge.svg\" alt=\"Open In Colab\"/></a>"
   ]
  },
  {
   "cell_type": "code",
   "execution_count": 1,
   "metadata": {
    "id": "pxxCjM4AIsZP"
   },
   "outputs": [
    {
     "name": "stderr",
     "output_type": "stream",
     "text": [
      "WARNING:absl:No GPU/TPU found, falling back to CPU. (Set TF_CPP_MIN_LOG_LEVEL=0 and rerun for more info.)\n"
     ]
    }
   ],
   "source": [
    "import math\n",
    "import collections\n",
    "\n",
    "try:\n",
    "    import jax\n",
    "except:\n",
    "    %pip install jax jaxlib\n",
    "    import jax\n",
    "import jax.numpy as jnp\n",
    "\n",
    "try:\n",
    "    import matplotlib.pyplot as plt\n",
    "except:\n",
    "    %pip install matplotlib\n",
    "    import matplotlib.pyplot as plt\n",
    "\n",
    "\n",
    "try:\n",
    "    import flax.linen as nn\n",
    "except:\n",
    "    %pip install flax\n",
    "    import flax.linen as nn\n",
    "\n",
    "key = jax.random.PRNGKey(seed=1)"
   ]
  },
  {
   "cell_type": "code",
   "execution_count": 2,
   "metadata": {},
   "outputs": [
    {
     "name": "stdout",
     "output_type": "stream",
     "text": [
      "batch norm\n",
      "[[-1. -1. -1.]\n",
      " [ 1.  1.  1.]]\n",
      "layer norm\n",
      "[[-1.2247448  0.         1.2247448]\n",
      " [-1.2247448  0.         1.2247448]]\n"
     ]
    }
   ],
   "source": [
    "# batch size 3, feature size 2\n",
    "x = jnp.array([[1, 2, 3], [4, 5, 6]])\n",
    "\n",
    "print('batch norm')\n",
    "mu_batch = jnp.mean(x,axis=0)\n",
    "sigma_batch = jnp.std(x,axis=0)\n",
    "x_batch_norm = (x-mu_batch)/sigma_batch\n",
    "print(x_batch_norm)\n",
    "\n",
    "print('layer norm')\n",
    "mu_layer = jnp.expand_dims(jnp.mean(x,axis=1),axis=1)\n",
    "sigma_layer = jnp.expand_dims(jnp.std(x,axis=1), axis=1)\n",
    "x_layer_norm = (x-mu_layer)/sigma_layer\n",
    "print(x_layer_norm)\n"
   ]
  },
  {
   "cell_type": "code",
   "execution_count": 3,
   "metadata": {
    "colab": {
     "base_uri": "https://localhost:8080/"
    },
    "id": "6p9f1kSyJbuT",
    "outputId": "c8344ff2-629b-4976-bfaa-bd65663f047b"
   },
   "outputs": [
    {
     "name": "stdout",
     "output_type": "stream",
     "text": [
      "batch norm\n",
      "[[-0.9999978 -0.9999978 -0.9999978]\n",
      " [ 0.9999978  0.9999978  0.9999978]]\n",
      "layer norm\n",
      "[[-1.2247437  0.         1.2247437]\n",
      " [-1.2247428  0.         1.2247428]]\n"
     ]
    }
   ],
   "source": [
    "x = jnp.array(x, dtype=jnp.float32)\n",
    "\n",
    "batch_norm = nn.BatchNorm(use_running_average=False)\n",
    "layer_norm = nn.LayerNorm()\n",
    "\n",
    "print('batch norm')\n",
    "params_batch_norm =  batch_norm.init(key,x)\n",
    "x_batch_norm_train,_ = batch_norm.apply(params_batch_norm,x,mutable=['batch_stats'])\n",
    "print(x_batch_norm_train)\n",
    "\n",
    "assert(jnp.allclose(x_batch_norm_train, x_batch_norm, atol=1e-3))\n",
    "\n",
    "print('layer norm')\n",
    "params_layer_norm = layer_norm.init(key,x)\n",
    "x_layer_norm_train = layer_norm.apply(params_layer_norm,x)\n",
    "print(x_layer_norm_train)\n",
    "\n",
    "assert(jnp.allclose(x_layer_norm_train, x_layer_norm, atol=1e-3))"
   ]
  }
 ],
 "metadata": {
  "colab": {
   "authorship_tag": "ABX9TyMG1mBr0d4qvpByDjLD3+XP",
   "include_colab_link": true,
   "name": "layer-norm-torch.ipynb",
   "provenance": []
  },
  "kernelspec": {
   "display_name": "Python 3",
   "language": "python",
   "name": "python3"
  },
  "language_info": {
   "codemirror_mode": {
    "name": "ipython",
    "version": 3
   },
   "file_extension": ".py",
   "mimetype": "text/x-python",
   "name": "python",
   "nbconvert_exporter": "python",
   "pygments_lexer": "ipython3",
   "version": "3.9.7"
  }
 },
 "nbformat": 4,
 "nbformat_minor": 1
}
